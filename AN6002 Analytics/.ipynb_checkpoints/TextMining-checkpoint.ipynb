{
 "cells": [
  {
   "cell_type": "code",
   "execution_count": 1,
   "id": "c78c0e24",
   "metadata": {
    "ExecuteTime": {
     "end_time": "2022-01-28T11:35:03.129771Z",
     "start_time": "2022-01-28T11:35:01.829297Z"
    }
   },
   "outputs": [],
   "source": [
    "import nltk"
   ]
  },
  {
   "cell_type": "code",
   "execution_count": null,
   "id": "33af412a",
   "metadata": {
    "ExecuteTime": {
     "start_time": "2022-01-28T11:35:07.466Z"
    }
   },
   "outputs": [
    {
     "name": "stdout",
     "output_type": "stream",
     "text": [
      "Requirement already satisfied: wordcloud in /Users/sanghyuk/anaconda/envs/py38/lib/python3.8/site-packages (1.8.1)\r\n",
      "Requirement already satisfied: matplotlib in /Users/sanghyuk/anaconda/envs/py38/lib/python3.8/site-packages (from wordcloud) (3.4.3)\r\n",
      "Requirement already satisfied: numpy>=1.6.1 in /Users/sanghyuk/anaconda/envs/py38/lib/python3.8/site-packages (from wordcloud) (1.21.2)\r\n",
      "Requirement already satisfied: pillow in /Users/sanghyuk/anaconda/envs/py38/lib/python3.8/site-packages (from wordcloud) (8.4.0)\r\n",
      "Requirement already satisfied: python-dateutil>=2.7 in /Users/sanghyuk/anaconda/envs/py38/lib/python3.8/site-packages (from matplotlib->wordcloud) (2.8.2)\r\n",
      "Requirement already satisfied: pyparsing>=2.2.1 in /Users/sanghyuk/anaconda/envs/py38/lib/python3.8/site-packages (from matplotlib->wordcloud) (2.4.2)\r\n",
      "Requirement already satisfied: cycler>=0.10 in /Users/sanghyuk/anaconda/envs/py38/lib/python3.8/site-packages (from matplotlib->wordcloud) (0.10.0)\r\n",
      "Requirement already satisfied: kiwisolver>=1.0.1 in /Users/sanghyuk/anaconda/envs/py38/lib/python3.8/site-packages (from matplotlib->wordcloud) (1.3.1)\r\n",
      "Requirement already satisfied: six in /Users/sanghyuk/anaconda/envs/py38/lib/python3.8/site-packages (from cycler>=0.10->matplotlib->wordcloud) (1.16.0)\r\n"
     ]
    }
   ],
   "source": [
    "!pip3 install wordcloud"
   ]
  },
  {
   "cell_type": "code",
   "execution_count": null,
   "id": "f4999ea3",
   "metadata": {},
   "outputs": [],
   "source": []
  }
 ],
 "metadata": {
  "hide_input": false,
  "kernelspec": {
   "display_name": "Python 3 (ipykernel)",
   "language": "python",
   "name": "python3"
  },
  "language_info": {
   "codemirror_mode": {
    "name": "ipython",
    "version": 3
   },
   "file_extension": ".py",
   "mimetype": "text/x-python",
   "name": "python",
   "nbconvert_exporter": "python",
   "pygments_lexer": "ipython3",
   "version": "3.8.5"
  },
  "toc": {
   "base_numbering": 1,
   "nav_menu": {},
   "number_sections": true,
   "sideBar": true,
   "skip_h1_title": false,
   "title_cell": "Table of Contents",
   "title_sidebar": "Contents",
   "toc_cell": false,
   "toc_position": {},
   "toc_section_display": true,
   "toc_window_display": false
  },
  "varInspector": {
   "cols": {
    "lenName": 16,
    "lenType": 16,
    "lenVar": 40
   },
   "kernels_config": {
    "python": {
     "delete_cmd_postfix": "",
     "delete_cmd_prefix": "del ",
     "library": "var_list.py",
     "varRefreshCmd": "print(var_dic_list())"
    },
    "r": {
     "delete_cmd_postfix": ") ",
     "delete_cmd_prefix": "rm(",
     "library": "var_list.r",
     "varRefreshCmd": "cat(var_dic_list()) "
    }
   },
   "types_to_exclude": [
    "module",
    "function",
    "builtin_function_or_method",
    "instance",
    "_Feature"
   ],
   "window_display": false
  }
 },
 "nbformat": 4,
 "nbformat_minor": 5
}
