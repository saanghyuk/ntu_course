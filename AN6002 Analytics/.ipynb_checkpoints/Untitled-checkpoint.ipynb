{
 "cells": [
  {
   "cell_type": "markdown",
   "id": "b5ca1511",
   "metadata": {},
   "source": [
    "Commodity market allows for the trading, buying, and selling of commodities. It is commonly perceived as a high risk investment due to its volatile fluctuations with wide array uncertainties. There are various means for trading commodity: futures contracts, physical trading, futures trading. Common trading instruments includes Swaps, Exchange-traded commodities (ETC) and Exchange-traded funds (ETF). Commodity Price Index (CPI) is a fixed weight index of selected commodity prices based on spot or futures prices. It is typically a representative of the broad commodity asset class which provides indication of commodity's performance. The main groups of commodity include energy group, non-energy group, and precious metal group. The following data (extracted from worldbank data) record down:\n"
   ]
  },
  {
   "cell_type": "markdown",
   "id": "7d75062c",
   "metadata": {},
   "source": [
    "Commodity_a.csv: The commodity prices for precious metals (Gold, Silver and Platinum). Commodity_b.csv: Gold ETF tonnage changes from 2019 to 2021.\n",
    "Commodity_c.csv: Gold prices versus bond yield from year 2010 to 2021.\n",
    "Commodity_d.csv: Top producers of Gold, Silver, and Platinum by percentage of global production in year 2019.\n",
    "\n",
    "\n",
    "**What insights can you draw from the given datasets?\n",
    "Process commodity_a.csv to indicate monthly average prices. \n",
    "Do you discover some interesting point?**"
   ]
  },
  {
   "cell_type": "code",
   "execution_count": 10,
   "id": "89de7002",
   "metadata": {
    "ExecuteTime": {
     "end_time": "2021-12-10T13:17:35.948311Z",
     "start_time": "2021-12-10T13:17:35.936937Z"
    }
   },
   "outputs": [
    {
     "data": {
      "text/html": [
       "<div>\n",
       "<style scoped>\n",
       "    .dataframe tbody tr th:only-of-type {\n",
       "        vertical-align: middle;\n",
       "    }\n",
       "\n",
       "    .dataframe tbody tr th {\n",
       "        vertical-align: top;\n",
       "    }\n",
       "\n",
       "    .dataframe thead th {\n",
       "        text-align: right;\n",
       "    }\n",
       "</style>\n",
       "<table border=\"1\" class=\"dataframe\">\n",
       "  <thead>\n",
       "    <tr style=\"text-align: right;\">\n",
       "      <th></th>\n",
       "      <th>Date</th>\n",
       "      <th>Gold ETF</th>\n",
       "    </tr>\n",
       "  </thead>\n",
       "  <tbody>\n",
       "    <tr>\n",
       "      <th>0</th>\n",
       "      <td>31/1/19</td>\n",
       "      <td>74.34</td>\n",
       "    </tr>\n",
       "    <tr>\n",
       "      <th>1</th>\n",
       "      <td>28/2/19</td>\n",
       "      <td>-35.92</td>\n",
       "    </tr>\n",
       "    <tr>\n",
       "      <th>2</th>\n",
       "      <td>29/3/19</td>\n",
       "      <td>2.08</td>\n",
       "    </tr>\n",
       "    <tr>\n",
       "      <th>3</th>\n",
       "      <td>30/4/19</td>\n",
       "      <td>-59.55</td>\n",
       "    </tr>\n",
       "    <tr>\n",
       "      <th>4</th>\n",
       "      <td>31/5/19</td>\n",
       "      <td>3.21</td>\n",
       "    </tr>\n",
       "  </tbody>\n",
       "</table>\n",
       "</div>"
      ],
      "text/plain": [
       "      Date  Gold ETF\n",
       "0  31/1/19     74.34\n",
       "1  28/2/19    -35.92\n",
       "2  29/3/19      2.08\n",
       "3  30/4/19    -59.55\n",
       "4  31/5/19      3.21"
      ]
     },
     "execution_count": 10,
     "metadata": {},
     "output_type": "execute_result"
    }
   ],
   "source": [
    "raw = pd.read_csv(\"/Users/sanghyuk/Desktop/NTU_course/Semester2/Analytics/Week5/commodity_b.csv\")\n",
    "raw.columns= [\"Date\", \"Gold ETF\"]\n",
    "raw.head()"
   ]
  },
  {
   "cell_type": "code",
   "execution_count": null,
   "id": "2698b944",
   "metadata": {},
   "outputs": [],
   "source": [
    "df.plot()"
   ]
  }
 ],
 "metadata": {
  "kernelspec": {
   "display_name": "Python 3 (ipykernel)",
   "language": "python",
   "name": "python3"
  },
  "language_info": {
   "codemirror_mode": {
    "name": "ipython",
    "version": 3
   },
   "file_extension": ".py",
   "mimetype": "text/x-python",
   "name": "python",
   "nbconvert_exporter": "python",
   "pygments_lexer": "ipython3",
   "version": "3.8.5"
  },
  "toc": {
   "base_numbering": 1,
   "nav_menu": {},
   "number_sections": true,
   "sideBar": true,
   "skip_h1_title": false,
   "title_cell": "Table of Contents",
   "title_sidebar": "Contents",
   "toc_cell": false,
   "toc_position": {},
   "toc_section_display": true,
   "toc_window_display": false
  },
  "varInspector": {
   "cols": {
    "lenName": 16,
    "lenType": 16,
    "lenVar": 40
   },
   "kernels_config": {
    "python": {
     "delete_cmd_postfix": "",
     "delete_cmd_prefix": "del ",
     "library": "var_list.py",
     "varRefreshCmd": "print(var_dic_list())"
    },
    "r": {
     "delete_cmd_postfix": ") ",
     "delete_cmd_prefix": "rm(",
     "library": "var_list.r",
     "varRefreshCmd": "cat(var_dic_list()) "
    }
   },
   "types_to_exclude": [
    "module",
    "function",
    "builtin_function_or_method",
    "instance",
    "_Feature"
   ],
   "window_display": false
  }
 },
 "nbformat": 4,
 "nbformat_minor": 5
}
