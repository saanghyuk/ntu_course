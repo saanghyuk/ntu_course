{
 "cells": [
  {
   "cell_type": "code",
   "execution_count": 125,
   "id": "787e28c6",
   "metadata": {
    "ExecuteTime": {
     "end_time": "2022-01-16T08:44:42.878857Z",
     "start_time": "2022-01-16T08:44:42.875867Z"
    }
   },
   "outputs": [],
   "source": [
    "import os\n",
    "import pandas as pd\n",
    "import numpy as np"
   ]
  },
  {
   "cell_type": "code",
   "execution_count": 126,
   "id": "d78a35e3",
   "metadata": {
    "ExecuteTime": {
     "end_time": "2022-01-16T08:44:43.117242Z",
     "start_time": "2022-01-16T08:44:43.040328Z"
    }
   },
   "outputs": [],
   "source": [
    "df = pd.read_excel(\"UV6486-XLS-ENG.xlsx\", sheet_name=\"Nils Baker data\")\n",
    "df = df.dropna()"
   ]
  },
  {
   "cell_type": "code",
   "execution_count": 148,
   "id": "73b61fa8",
   "metadata": {
    "ExecuteTime": {
     "end_time": "2022-01-16T09:34:00.578145Z",
     "start_time": "2022-01-16T09:34:00.541483Z"
    }
   },
   "outputs": [
    {
     "data": {
      "text/html": [
       "<div>\n",
       "<style scoped>\n",
       "    .dataframe tbody tr th:only-of-type {\n",
       "        vertical-align: middle;\n",
       "    }\n",
       "\n",
       "    .dataframe tbody tr th {\n",
       "        vertical-align: top;\n",
       "    }\n",
       "\n",
       "    .dataframe thead th {\n",
       "        text-align: right;\n",
       "    }\n",
       "</style>\n",
       "<table border=\"1\" class=\"dataframe\">\n",
       "  <thead>\n",
       "    <tr style=\"text-align: right;\">\n",
       "      <th></th>\n",
       "      <th>ID</th>\n",
       "      <th>Total Households in Area</th>\n",
       "      <th>Households with Account</th>\n",
       "      <th>Inside/Outside Footprint</th>\n",
       "    </tr>\n",
       "  </thead>\n",
       "  <tbody>\n",
       "    <tr>\n",
       "      <th>0</th>\n",
       "      <td>1</td>\n",
       "      <td>1772960.0</td>\n",
       "      <td>17563.0</td>\n",
       "      <td>Outside</td>\n",
       "    </tr>\n",
       "    <tr>\n",
       "      <th>1</th>\n",
       "      <td>2</td>\n",
       "      <td>1345209.0</td>\n",
       "      <td>14547.0</td>\n",
       "      <td>Outside</td>\n",
       "    </tr>\n",
       "    <tr>\n",
       "      <th>2</th>\n",
       "      <td>3</td>\n",
       "      <td>960434.0</td>\n",
       "      <td>10847.0</td>\n",
       "      <td>Outside</td>\n",
       "    </tr>\n",
       "    <tr>\n",
       "      <th>3</th>\n",
       "      <td>4</td>\n",
       "      <td>928274.0</td>\n",
       "      <td>18133.0</td>\n",
       "      <td>Inside</td>\n",
       "    </tr>\n",
       "    <tr>\n",
       "      <th>4</th>\n",
       "      <td>5</td>\n",
       "      <td>893995.0</td>\n",
       "      <td>5291.0</td>\n",
       "      <td>Outside</td>\n",
       "    </tr>\n",
       "  </tbody>\n",
       "</table>\n",
       "</div>"
      ],
      "text/plain": [
       "  ID  Total Households in Area  Households with Account  \\\n",
       "0  1                 1772960.0                  17563.0   \n",
       "1  2                 1345209.0                  14547.0   \n",
       "2  3                  960434.0                  10847.0   \n",
       "3  4                  928274.0                  18133.0   \n",
       "4  5                  893995.0                   5291.0   \n",
       "\n",
       "  Inside/Outside Footprint  \n",
       "0                  Outside  \n",
       "1                  Outside  \n",
       "2                  Outside  \n",
       "3                   Inside  \n",
       "4                  Outside  "
      ]
     },
     "execution_count": 148,
     "metadata": {},
     "output_type": "execute_result"
    }
   ],
   "source": [
    "df.head()"
   ]
  },
  {
   "cell_type": "code",
   "execution_count": 127,
   "id": "1316554c",
   "metadata": {
    "ExecuteTime": {
     "end_time": "2022-01-16T08:44:43.266318Z",
     "start_time": "2022-01-16T08:44:43.235683Z"
    },
    "scrolled": true
   },
   "outputs": [
    {
     "name": "stderr",
     "output_type": "stream",
     "text": [
      "/var/folders/zv/bq3zr8t97_12jyw8m8jbgwyc0000gn/T/ipykernel_17281/2556932332.py:1: FutureWarning: Indexing with multiple keys (implicitly converted to a tuple of keys) will be deprecated, use a list instead.\n",
      "  groupby_df = df.groupby(['Inside/Outside Footprint'])['Total Households in Area', 'Households with Account'].agg(['mean', 'sum'])\n"
     ]
    },
    {
     "data": {
      "text/html": [
       "<div>\n",
       "<style scoped>\n",
       "    .dataframe tbody tr th:only-of-type {\n",
       "        vertical-align: middle;\n",
       "    }\n",
       "\n",
       "    .dataframe tbody tr th {\n",
       "        vertical-align: top;\n",
       "    }\n",
       "\n",
       "    .dataframe thead tr th {\n",
       "        text-align: left;\n",
       "    }\n",
       "\n",
       "    .dataframe thead tr:last-of-type th {\n",
       "        text-align: right;\n",
       "    }\n",
       "</style>\n",
       "<table border=\"1\" class=\"dataframe\">\n",
       "  <thead>\n",
       "    <tr>\n",
       "      <th></th>\n",
       "      <th colspan=\"2\" halign=\"left\">Total Households in Area</th>\n",
       "      <th colspan=\"2\" halign=\"left\">Households with Account</th>\n",
       "    </tr>\n",
       "    <tr>\n",
       "      <th></th>\n",
       "      <th>mean</th>\n",
       "      <th>sum</th>\n",
       "      <th>mean</th>\n",
       "      <th>sum</th>\n",
       "    </tr>\n",
       "    <tr>\n",
       "      <th>Inside/Outside Footprint</th>\n",
       "      <th></th>\n",
       "      <th></th>\n",
       "      <th></th>\n",
       "      <th></th>\n",
       "    </tr>\n",
       "  </thead>\n",
       "  <tbody>\n",
       "    <tr>\n",
       "      <th>Inside</th>\n",
       "      <td>69434.150943</td>\n",
       "      <td>3680010.0</td>\n",
       "      <td>1189.603774</td>\n",
       "      <td>63049.0</td>\n",
       "    </tr>\n",
       "    <tr>\n",
       "      <th>Outside</th>\n",
       "      <td>236303.149254</td>\n",
       "      <td>15832311.0</td>\n",
       "      <td>2627.194030</td>\n",
       "      <td>176022.0</td>\n",
       "    </tr>\n",
       "  </tbody>\n",
       "</table>\n",
       "</div>"
      ],
      "text/plain": [
       "                         Total Households in Area              \\\n",
       "                                             mean         sum   \n",
       "Inside/Outside Footprint                                        \n",
       "Inside                               69434.150943   3680010.0   \n",
       "Outside                             236303.149254  15832311.0   \n",
       "\n",
       "                         Households with Account            \n",
       "                                            mean       sum  \n",
       "Inside/Outside Footprint                                    \n",
       "Inside                               1189.603774   63049.0  \n",
       "Outside                              2627.194030  176022.0  "
      ]
     },
     "execution_count": 127,
     "metadata": {},
     "output_type": "execute_result"
    }
   ],
   "source": [
    "groupby_df = df.groupby(['Inside/Outside Footprint'])['Total Households in Area', 'Households with Account'].agg(['mean', 'sum'])\n",
    "groupby_df"
   ]
  },
  {
   "cell_type": "markdown",
   "id": "9183d171",
   "metadata": {},
   "source": [
    "## Proportion Comparison with Bar Chart"
   ]
  },
  {
   "cell_type": "code",
   "execution_count": 128,
   "id": "e2005065",
   "metadata": {
    "ExecuteTime": {
     "end_time": "2022-01-16T08:44:43.395542Z",
     "start_time": "2022-01-16T08:44:43.384474Z"
    }
   },
   "outputs": [
    {
     "data": {
      "text/plain": [
       "Inside/Outside Footprint\n",
       "Inside      3680010.0\n",
       "Outside    15832311.0\n",
       "Name: (Total Households in Area, sum), dtype: float64"
      ]
     },
     "execution_count": 128,
     "metadata": {},
     "output_type": "execute_result"
    }
   ],
   "source": [
    "sum_households = groupby_df[('Total Households in Area',  'sum')]\n",
    "sum_households"
   ]
  },
  {
   "cell_type": "code",
   "execution_count": 129,
   "id": "9405eb1d",
   "metadata": {
    "ExecuteTime": {
     "end_time": "2022-01-16T08:44:43.543269Z",
     "start_time": "2022-01-16T08:44:43.533606Z"
    }
   },
   "outputs": [
    {
     "data": {
      "text/plain": [
       "Inside/Outside Footprint\n",
       "Inside      63049.0\n",
       "Outside    176022.0\n",
       "Name: (Households with Account, sum), dtype: float64"
      ]
     },
     "execution_count": 129,
     "metadata": {},
     "output_type": "execute_result"
    }
   ],
   "source": [
    "sum_accounts = groupby_df[('Households with Account',  'sum')]\n",
    "sum_accounts"
   ]
  },
  {
   "cell_type": "code",
   "execution_count": 149,
   "id": "248abcae",
   "metadata": {
    "ExecuteTime": {
     "end_time": "2022-01-16T09:38:29.540142Z",
     "start_time": "2022-01-16T09:38:29.533785Z"
    }
   },
   "outputs": [
    {
     "data": {
      "text/plain": [
       "Inside/Outside Footprint\n",
       "Inside     0.017133\n",
       "Outside    0.011118\n",
       "dtype: float64"
      ]
     },
     "execution_count": 149,
     "metadata": {},
     "output_type": "execute_result"
    }
   ],
   "source": [
    "sum_accounts/sum_households"
   ]
  },
  {
   "cell_type": "code",
   "execution_count": 130,
   "id": "3eba57ef",
   "metadata": {
    "ExecuteTime": {
     "end_time": "2022-01-16T08:44:43.999624Z",
     "start_time": "2022-01-16T08:44:43.668891Z"
    },
    "scrolled": true
   },
   "outputs": [
    {
     "data": {
      "text/plain": [
       "<AxesSubplot:xlabel='Inside/Outside Footprint'>"
      ]
     },
     "execution_count": 130,
     "metadata": {},
     "output_type": "execute_result"
    },
    {
     "data": {
      "image/png": "[encoded data removed]",
      "text/plain": [
       "<Figure size 432x288 with 1 Axes>"
      ]
     },
     "metadata": {
      "image/png": {
       "height": 294,
       "width": 386
      }
     },
     "output_type": "display_data"
    }
   ],
   "source": [
    "(sum_accounts/sum_households).plot(kind=\"bar\")"
   ]
  },
  {
   "cell_type": "markdown",
   "id": "a0c0b226",
   "metadata": {},
   "source": [
    "## Linear Regression and Scatter Plot"
   ]
  },
  {
   "cell_type": "code",
   "execution_count": 132,
   "id": "0ec69085",
   "metadata": {
    "ExecuteTime": {
     "end_time": "2022-01-16T08:44:45.374092Z",
     "start_time": "2022-01-16T08:44:45.367355Z"
    }
   },
   "outputs": [],
   "source": [
    "temp_df = df.rename({'Total Households in Area': 'Total_Households', \"Households with Account\": \"Accounts\", \"Inside/Outside Footprint\": \"Footprint\"}, axis=1)\n"
   ]
  },
  {
   "cell_type": "code",
   "execution_count": 133,
   "id": "ebaf9abf",
   "metadata": {
    "ExecuteTime": {
     "end_time": "2022-01-16T08:44:46.097199Z",
     "start_time": "2022-01-16T08:44:45.625192Z"
    }
   },
   "outputs": [
    {
     "data": {
      "text/plain": [
       "<AxesSubplot:xlabel='Total_Households', ylabel='Accounts'>"
      ]
     },
     "execution_count": 133,
     "metadata": {},
     "output_type": "execute_result"
    },
    {
     "data": {
      "image/png": "[encoded data removed]",
      "text/plain": [
       "<Figure size 432x288 with 1 Axes>"
      ]
     },
     "metadata": {
      "image/png": {
       "height": 266,
       "width": 404
      }
     },
     "output_type": "display_data"
    }
   ],
   "source": [
    "import seaborn as sns\n",
    "\n",
    "sns.lineplot( x=temp_df[\"Total_Households\"],y=temp_df[\"Accounts\"],hue=temp_df[\"Footprint\"])"
   ]
  },
  {
   "cell_type": "code",
   "execution_count": 134,
   "id": "b320bfb1",
   "metadata": {
    "ExecuteTime": {
     "end_time": "2022-01-16T08:44:46.200100Z",
     "start_time": "2022-01-16T08:44:46.196774Z"
    }
   },
   "outputs": [],
   "source": [
    "from sklearn.linear_model import LinearRegression"
   ]
  },
  {
   "cell_type": "code",
   "execution_count": 135,
   "id": "7b5081cf",
   "metadata": {
    "ExecuteTime": {
     "end_time": "2022-01-16T08:44:46.211376Z",
     "start_time": "2022-01-16T08:44:46.203267Z"
    }
   },
   "outputs": [
    {
     "data": {
      "text/plain": [
       "'bye34'"
      ]
     },
     "execution_count": 135,
     "metadata": {},
     "output_type": "execute_result"
    }
   ],
   "source": [
    "hi = 34\n",
    "linear_regressor=\"bye\"\n",
    "linear_regressor+str(hi)"
   ]
  },
  {
   "cell_type": "code",
   "execution_count": 136,
   "id": "a23f6517",
   "metadata": {
    "ExecuteTime": {
     "end_time": "2022-01-16T08:44:46.577750Z",
     "start_time": "2022-01-16T08:44:46.214931Z"
    }
   },
   "outputs": [
    {
     "name": "stdout",
     "output_type": "stream",
     "text": [
      "Inside\n",
      "Outside\n"
     ]
    },
    {
     "data": {
      "image/png": "[encoded data removed]",
      "text/plain": [
       "<Figure size 432x288 with 1 Axes>"
      ]
     },
     "metadata": {
      "image/png": {
       "height": 266,
       "width": 404
      }
     },
     "output_type": "display_data"
    }
   ],
   "source": [
    "fig, ax = plt.subplots()\n",
    "\n",
    "plt.xlabel(\"Total Households in Area\")\n",
    "plt.ylabel(\"Households with Account\")\n",
    "colors = {\"Inside\": \"Blue\", \"Outside\": \"Red\"}\n",
    "\n",
    "scatter_x = df['Total Households in Area'].to_numpy()\n",
    "scatter_y = df['Households with Account'].to_numpy()\n",
    "group = df[\"Inside/Outside Footprint\"].to_numpy()\n",
    "\n",
    "for g in np.unique(group):\n",
    "    i = np.where(group == g)\n",
    "    print(str(g))\n",
    "    linear_regressor = LinearRegression()\n",
    "    X  = scatter_x[i]\n",
    "    Y = scatter_y[i]\n",
    "    linear_regressor.fit(X.reshape(-1, 1), Y.reshape(-1, 1))\n",
    "    Y_pred = linear_regressor.predict(X.reshape(-1, 1))\n",
    "    ax.scatter(X, Y, label=g)\n",
    "    plt.plot(X, Y_pred)\n",
    "ax.legend()\n",
    "plt.show()"
   ]
  },
  {
   "cell_type": "code",
   "execution_count": 138,
   "id": "a1ff4497",
   "metadata": {
    "ExecuteTime": {
     "end_time": "2022-01-16T08:44:47.317133Z",
     "start_time": "2022-01-16T08:44:47.261147Z"
    }
   },
   "outputs": [
    {
     "name": "stdout",
     "output_type": "stream",
     "text": [
      "Inside Regression Result\n",
      "                            OLS Regression Results                            \n",
      "==============================================================================\n",
      "Dep. Variable:       Total_Households   R-squared:                       0.928\n",
      "Model:                            OLS   Adj. R-squared:                  0.926\n",
      "Method:                 Least Squares   F-statistic:                     655.6\n",
      "Date:                Sun, 16 Jan 2022   Prob (F-statistic):           8.94e-31\n",
      "Time:                        16:44:47   Log-Likelihood:                -628.78\n",
      "No. Observations:                  53   AIC:                             1262.\n",
      "Df Residuals:                      51   BIC:                             1265.\n",
      "Df Model:                           1                                         \n",
      "Covariance Type:            nonrobust                                         \n",
      "==============================================================================\n",
      "                 coef    std err          t      P>|t|      [0.025      0.975]\n",
      "------------------------------------------------------------------------------\n",
      "Intercept   1.406e+04   5275.792      2.666      0.010    3471.247    2.47e+04\n",
      "Accounts      46.5460      1.818     25.604      0.000      42.896      50.196\n",
      "==============================================================================\n",
      "Omnibus:                       35.499   Durbin-Watson:                   2.591\n",
      "Prob(Omnibus):                  0.000   Jarque-Bera (JB):              183.076\n",
      "Skew:                          -1.510   Prob(JB):                     1.76e-40\n",
      "Kurtosis:                      11.590   Cond. No.                     3.18e+03\n",
      "==============================================================================\n",
      "\n",
      "Notes:\n",
      "[1] Standard Errors assume that the covariance matrix of the errors is correctly specified.\n",
      "[2] The condition number is large, 3.18e+03. This might indicate that there are\n",
      "strong multicollinearity or other numerical problems.\n",
      "\n",
      "\n",
      "\n",
      "\n",
      "Outside Regression Result\n",
      "                            OLS Regression Results                            \n",
      "==============================================================================\n",
      "Dep. Variable:       Total_Households   R-squared:                       0.869\n",
      "Model:                            OLS   Adj. R-squared:                  0.867\n",
      "Method:                 Least Squares   F-statistic:                     432.7\n",
      "Date:                Sun, 16 Jan 2022   Prob (F-statistic):           1.96e-30\n",
      "Time:                        16:44:47   Log-Likelihood:                -878.87\n",
      "No. Observations:                  67   AIC:                             1762.\n",
      "Df Residuals:                      65   BIC:                             1766.\n",
      "Df Model:                           1                                         \n",
      "Covariance Type:            nonrobust                                         \n",
      "==============================================================================\n",
      "                 coef    std err          t      P>|t|      [0.025      0.975]\n",
      "------------------------------------------------------------------------------\n",
      "Intercept   9110.7331   1.85e+04      0.492      0.624   -2.78e+04    4.61e+04\n",
      "Accounts      86.4772      4.157     20.801      0.000      78.174      94.780\n",
      "==============================================================================\n",
      "Omnibus:                       15.469   Durbin-Watson:                   1.411\n",
      "Prob(Omnibus):                  0.000   Jarque-Bera (JB):               72.388\n",
      "Skew:                           0.096   Prob(JB):                     1.91e-16\n",
      "Kurtosis:                       8.089   Cond. No.                     5.51e+03\n",
      "==============================================================================\n",
      "\n",
      "Notes:\n",
      "[1] Standard Errors assume that the covariance matrix of the errors is correctly specified.\n",
      "[2] The condition number is large, 5.51e+03. This might indicate that there are\n",
      "strong multicollinearity or other numerical problems.\n",
      "\n",
      "\n",
      "\n",
      "\n"
     ]
    }
   ],
   "source": [
    "from statsmodels.formula.api import ols\n",
    "\n",
    "group = temp_df[\"Inside/Outside Footprint\"].to_numpy()\n",
    "\n",
    "for g in np.unique(group):\n",
    "    i = np.where(group == g)\n",
    "    print(g, \"Regression Result\")\n",
    "    print(ols('Total_Households ~ Accounts', data = temp_df.iloc[i]).fit().summary())\n",
    "    print(\"\\n\\n\\n\")\n"
   ]
  },
  {
   "cell_type": "markdown",
   "id": "c74691ac",
   "metadata": {},
   "source": [
    "## Hypothesis Testing"
   ]
  },
  {
   "cell_type": "code",
   "execution_count": 139,
   "id": "2d7e26fe",
   "metadata": {
    "ExecuteTime": {
     "end_time": "2022-01-16T08:54:03.430840Z",
     "start_time": "2022-01-16T08:54:03.418116Z"
    }
   },
   "outputs": [
    {
     "data": {
      "text/html": [
       "<div>\n",
       "<style scoped>\n",
       "    .dataframe tbody tr th:only-of-type {\n",
       "        vertical-align: middle;\n",
       "    }\n",
       "\n",
       "    .dataframe tbody tr th {\n",
       "        vertical-align: top;\n",
       "    }\n",
       "\n",
       "    .dataframe thead th {\n",
       "        text-align: right;\n",
       "    }\n",
       "</style>\n",
       "<table border=\"1\" class=\"dataframe\">\n",
       "  <thead>\n",
       "    <tr style=\"text-align: right;\">\n",
       "      <th></th>\n",
       "      <th>ID</th>\n",
       "      <th>Total_Households</th>\n",
       "      <th>Accounts</th>\n",
       "      <th>Inside/Outside Footprint</th>\n",
       "    </tr>\n",
       "  </thead>\n",
       "  <tbody>\n",
       "    <tr>\n",
       "      <th>0</th>\n",
       "      <td>1</td>\n",
       "      <td>1772960.0</td>\n",
       "      <td>17563.0</td>\n",
       "      <td>Outside</td>\n",
       "    </tr>\n",
       "    <tr>\n",
       "      <th>1</th>\n",
       "      <td>2</td>\n",
       "      <td>1345209.0</td>\n",
       "      <td>14547.0</td>\n",
       "      <td>Outside</td>\n",
       "    </tr>\n",
       "    <tr>\n",
       "      <th>2</th>\n",
       "      <td>3</td>\n",
       "      <td>960434.0</td>\n",
       "      <td>10847.0</td>\n",
       "      <td>Outside</td>\n",
       "    </tr>\n",
       "    <tr>\n",
       "      <th>3</th>\n",
       "      <td>4</td>\n",
       "      <td>928274.0</td>\n",
       "      <td>18133.0</td>\n",
       "      <td>Inside</td>\n",
       "    </tr>\n",
       "    <tr>\n",
       "      <th>4</th>\n",
       "      <td>5</td>\n",
       "      <td>893995.0</td>\n",
       "      <td>5291.0</td>\n",
       "      <td>Outside</td>\n",
       "    </tr>\n",
       "    <tr>\n",
       "      <th>...</th>\n",
       "      <td>...</td>\n",
       "      <td>...</td>\n",
       "      <td>...</td>\n",
       "      <td>...</td>\n",
       "    </tr>\n",
       "    <tr>\n",
       "      <th>115</th>\n",
       "      <td>116</td>\n",
       "      <td>9025.0</td>\n",
       "      <td>338.0</td>\n",
       "      <td>Inside</td>\n",
       "    </tr>\n",
       "    <tr>\n",
       "      <th>116</th>\n",
       "      <td>117</td>\n",
       "      <td>8843.0</td>\n",
       "      <td>42.0</td>\n",
       "      <td>Inside</td>\n",
       "    </tr>\n",
       "    <tr>\n",
       "      <th>117</th>\n",
       "      <td>118</td>\n",
       "      <td>8480.0</td>\n",
       "      <td>284.0</td>\n",
       "      <td>Outside</td>\n",
       "    </tr>\n",
       "    <tr>\n",
       "      <th>118</th>\n",
       "      <td>119</td>\n",
       "      <td>5019.0</td>\n",
       "      <td>87.0</td>\n",
       "      <td>Outside</td>\n",
       "    </tr>\n",
       "    <tr>\n",
       "      <th>119</th>\n",
       "      <td>120</td>\n",
       "      <td>1799.0</td>\n",
       "      <td>13.0</td>\n",
       "      <td>Inside</td>\n",
       "    </tr>\n",
       "  </tbody>\n",
       "</table>\n",
       "<p>120 rows × 4 columns</p>\n",
       "</div>"
      ],
      "text/plain": [
       "      ID  Total_Households  Accounts Inside/Outside Footprint\n",
       "0      1         1772960.0   17563.0                  Outside\n",
       "1      2         1345209.0   14547.0                  Outside\n",
       "2      3          960434.0   10847.0                  Outside\n",
       "3      4          928274.0   18133.0                   Inside\n",
       "4      5          893995.0    5291.0                  Outside\n",
       "..   ...               ...       ...                      ...\n",
       "115  116            9025.0     338.0                   Inside\n",
       "116  117            8843.0      42.0                   Inside\n",
       "117  118            8480.0     284.0                  Outside\n",
       "118  119            5019.0      87.0                  Outside\n",
       "119  120            1799.0      13.0                   Inside\n",
       "\n",
       "[120 rows x 4 columns]"
      ]
     },
     "execution_count": 139,
     "metadata": {},
     "output_type": "execute_result"
    }
   ],
   "source": [
    "temp_df"
   ]
  },
  {
   "cell_type": "code",
   "execution_count": 140,
   "id": "efec36bd",
   "metadata": {
    "ExecuteTime": {
     "end_time": "2022-01-16T08:59:05.230023Z",
     "start_time": "2022-01-16T08:59:05.227537Z"
    }
   },
   "outputs": [],
   "source": [
    "import numpy as np\n",
    "import pandas as pd\n",
    "import scipy.stats.distributions as dist"
   ]
  },
  {
   "cell_type": "code",
   "execution_count": 142,
   "id": "c19d3bcd",
   "metadata": {
    "ExecuteTime": {
     "end_time": "2022-01-16T09:00:53.414902Z",
     "start_time": "2022-01-16T09:00:53.403306Z"
    }
   },
   "outputs": [
    {
     "data": {
      "text/html": [
       "<div>\n",
       "<style scoped>\n",
       "    .dataframe tbody tr th:only-of-type {\n",
       "        vertical-align: middle;\n",
       "    }\n",
       "\n",
       "    .dataframe tbody tr th {\n",
       "        vertical-align: top;\n",
       "    }\n",
       "\n",
       "    .dataframe thead th {\n",
       "        text-align: right;\n",
       "    }\n",
       "</style>\n",
       "<table border=\"1\" class=\"dataframe\">\n",
       "  <thead>\n",
       "    <tr style=\"text-align: right;\">\n",
       "      <th></th>\n",
       "      <th>ID</th>\n",
       "      <th>Total_Households</th>\n",
       "      <th>Accounts</th>\n",
       "      <th>Inside/Outside Footprint</th>\n",
       "      <th>Proportion</th>\n",
       "    </tr>\n",
       "  </thead>\n",
       "  <tbody>\n",
       "    <tr>\n",
       "      <th>0</th>\n",
       "      <td>1</td>\n",
       "      <td>1772960.0</td>\n",
       "      <td>17563.0</td>\n",
       "      <td>Outside</td>\n",
       "      <td>0.009906</td>\n",
       "    </tr>\n",
       "    <tr>\n",
       "      <th>1</th>\n",
       "      <td>2</td>\n",
       "      <td>1345209.0</td>\n",
       "      <td>14547.0</td>\n",
       "      <td>Outside</td>\n",
       "      <td>0.010814</td>\n",
       "    </tr>\n",
       "    <tr>\n",
       "      <th>2</th>\n",
       "      <td>3</td>\n",
       "      <td>960434.0</td>\n",
       "      <td>10847.0</td>\n",
       "      <td>Outside</td>\n",
       "      <td>0.011294</td>\n",
       "    </tr>\n",
       "    <tr>\n",
       "      <th>3</th>\n",
       "      <td>4</td>\n",
       "      <td>928274.0</td>\n",
       "      <td>18133.0</td>\n",
       "      <td>Inside</td>\n",
       "      <td>0.019534</td>\n",
       "    </tr>\n",
       "    <tr>\n",
       "      <th>4</th>\n",
       "      <td>5</td>\n",
       "      <td>893995.0</td>\n",
       "      <td>5291.0</td>\n",
       "      <td>Outside</td>\n",
       "      <td>0.005918</td>\n",
       "    </tr>\n",
       "  </tbody>\n",
       "</table>\n",
       "</div>"
      ],
      "text/plain": [
       "  ID  Total_Households  Accounts Inside/Outside Footprint  Proportion\n",
       "0  1         1772960.0   17563.0                  Outside    0.009906\n",
       "1  2         1345209.0   14547.0                  Outside    0.010814\n",
       "2  3          960434.0   10847.0                  Outside    0.011294\n",
       "3  4          928274.0   18133.0                   Inside    0.019534\n",
       "4  5          893995.0    5291.0                  Outside    0.005918"
      ]
     },
     "execution_count": 142,
     "metadata": {},
     "output_type": "execute_result"
    }
   ],
   "source": [
    "temp_df[\"Proportion\"] = temp_df[\"Accounts\"]/temp_df[\"Total_Households\"]\n",
    "temp_df.head()"
   ]
  },
  {
   "cell_type": "code",
   "execution_count": 143,
   "id": "165c1943",
   "metadata": {
    "ExecuteTime": {
     "end_time": "2022-01-16T09:12:11.574004Z",
     "start_time": "2022-01-16T09:12:11.555613Z"
    }
   },
   "outputs": [
    {
     "name": "stderr",
     "output_type": "stream",
     "text": [
      "/var/folders/zv/bq3zr8t97_12jyw8m8jbgwyc0000gn/T/ipykernel_17281/2556932332.py:1: FutureWarning: Indexing with multiple keys (implicitly converted to a tuple of keys) will be deprecated, use a list instead.\n",
      "  groupby_df = df.groupby(['Inside/Outside Footprint'])['Total Households in Area', 'Households with Account'].agg(['mean', 'sum'])\n"
     ]
    },
    {
     "data": {
      "text/html": [
       "<div>\n",
       "<style scoped>\n",
       "    .dataframe tbody tr th:only-of-type {\n",
       "        vertical-align: middle;\n",
       "    }\n",
       "\n",
       "    .dataframe tbody tr th {\n",
       "        vertical-align: top;\n",
       "    }\n",
       "\n",
       "    .dataframe thead tr th {\n",
       "        text-align: left;\n",
       "    }\n",
       "\n",
       "    .dataframe thead tr:last-of-type th {\n",
       "        text-align: right;\n",
       "    }\n",
       "</style>\n",
       "<table border=\"1\" class=\"dataframe\">\n",
       "  <thead>\n",
       "    <tr>\n",
       "      <th></th>\n",
       "      <th colspan=\"2\" halign=\"left\">Total Households in Area</th>\n",
       "      <th colspan=\"2\" halign=\"left\">Households with Account</th>\n",
       "    </tr>\n",
       "    <tr>\n",
       "      <th></th>\n",
       "      <th>mean</th>\n",
       "      <th>sum</th>\n",
       "      <th>mean</th>\n",
       "      <th>sum</th>\n",
       "    </tr>\n",
       "    <tr>\n",
       "      <th>Inside/Outside Footprint</th>\n",
       "      <th></th>\n",
       "      <th></th>\n",
       "      <th></th>\n",
       "      <th></th>\n",
       "    </tr>\n",
       "  </thead>\n",
       "  <tbody>\n",
       "    <tr>\n",
       "      <th>Inside</th>\n",
       "      <td>69434.150943</td>\n",
       "      <td>3680010.0</td>\n",
       "      <td>1189.603774</td>\n",
       "      <td>63049.0</td>\n",
       "    </tr>\n",
       "    <tr>\n",
       "      <th>Outside</th>\n",
       "      <td>236303.149254</td>\n",
       "      <td>15832311.0</td>\n",
       "      <td>2627.194030</td>\n",
       "      <td>176022.0</td>\n",
       "    </tr>\n",
       "  </tbody>\n",
       "</table>\n",
       "</div>"
      ],
      "text/plain": [
       "                         Total Households in Area              \\\n",
       "                                             mean         sum   \n",
       "Inside/Outside Footprint                                        \n",
       "Inside                               69434.150943   3680010.0   \n",
       "Outside                             236303.149254  15832311.0   \n",
       "\n",
       "                         Households with Account            \n",
       "                                            mean       sum  \n",
       "Inside/Outside Footprint                                    \n",
       "Inside                               1189.603774   63049.0  \n",
       "Outside                              2627.194030  176022.0  "
      ]
     },
     "execution_count": 143,
     "metadata": {},
     "output_type": "execute_result"
    }
   ],
   "source": [
    "groupby_df = df.groupby(['Inside/Outside Footprint'])['Total Households in Area', 'Households with Account'].agg(['mean', 'sum'])\n",
    "groupby_df"
   ]
  },
  {
   "cell_type": "markdown",
   "id": "91bc2ed4",
   "metadata": {},
   "source": [
    "[Proportion Test ](https://www.statsmodels.org/dev/generated/statsmodels.stats.proportion.proportions_ztest.html)"
   ]
  },
  {
   "cell_type": "markdown",
   "id": "03da5104",
   "metadata": {
    "ExecuteTime": {
     "end_time": "2022-01-16T09:18:23.372141Z",
     "start_time": "2022-01-16T09:18:23.365639Z"
    }
   },
   "source": [
    "The null hypothesis (H0) for the test is that the proportions are the same.<br>\n",
    "The alternate hypothesis (H1) is that the proportions are not the same."
   ]
  },
  {
   "cell_type": "code",
   "execution_count": 147,
   "id": "80664013",
   "metadata": {
    "ExecuteTime": {
     "end_time": "2022-01-16T09:19:34.118548Z",
     "start_time": "2022-01-16T09:19:34.111575Z"
    }
   },
   "outputs": [
    {
     "name": "stdout",
     "output_type": "stream",
     "text": [
      "z_stat: 94.480, p_value: 0.000\n",
      "Reject the null hypothesis - suggest the alternative hypothesis is true\n"
     ]
    }
   ],
   "source": [
    "from statsmodels.stats.proportion import proportions_ztest\n",
    "import numpy as np\n",
    "\n",
    "# can we assume anything from our sample\n",
    "significance = 0.025\n",
    "# note - the samples do not need to be the same size\n",
    "sample_accounts_inside, sample_accounts_outside = (63049, 176022)\n",
    "sample_households_inside, sample_households_outside = (3680010, 15832311)\n",
    "# check our sample against Ho for Ha != Ho\n",
    "accounts = np.array([sample_accounts_inside, sample_accounts_outside])\n",
    "households = np.array([sample_households_inside, sample_households_outside])\n",
    "# note, no need for a Ho value here - it's derived from the other parameters\n",
    "stat, p_value = proportions_ztest(count=accounts, nobs=households,  alternative='two-sided')\n",
    "# report\n",
    "print('z_stat: %0.3f, p_value: %0.3f' % (stat, p_value))\n",
    "if p_value > significance:\n",
    "   print (\"Fail to reject the null hypothesis - we have nothing else to say\")\n",
    "else:\n",
    "   print (\"Reject the null hypothesis - suggest the alternative hypothesis is true\")"
   ]
  },
  {
   "cell_type": "code",
   "execution_count": null,
   "id": "627ae39d",
   "metadata": {},
   "outputs": [],
   "source": []
  }
 ],
 "metadata": {
  "hide_input": false,
  "kernelspec": {
   "display_name": "Python 3 (ipykernel)",
   "language": "python",
   "name": "python3"
  },
  "language_info": {
   "codemirror_mode": {
    "name": "ipython",
    "version": 3
   },
   "file_extension": ".py",
   "mimetype": "text/x-python",
   "name": "python",
   "nbconvert_exporter": "python",
   "pygments_lexer": "ipython3",
   "version": "3.8.5"
  },
  "toc": {
   "base_numbering": 1,
   "nav_menu": {},
   "number_sections": true,
   "sideBar": true,
   "skip_h1_title": false,
   "title_cell": "Table of Contents",
   "title_sidebar": "Contents",
   "toc_cell": false,
   "toc_position": {},
   "toc_section_display": true,
   "toc_window_display": false
  },
  "varInspector": {
   "cols": {
    "lenName": 16,
    "lenType": 16,
    "lenVar": 40
   },
   "kernels_config": {
    "python": {
     "delete_cmd_postfix": "",
     "delete_cmd_prefix": "del ",
     "library": "var_list.py",
     "varRefreshCmd": "print(var_dic_list())"
    },
    "r": {
     "delete_cmd_postfix": ") ",
     "delete_cmd_prefix": "rm(",
     "library": "var_list.r",
     "varRefreshCmd": "cat(var_dic_list()) "
    }
   },
   "types_to_exclude": [
    "module",
    "function",
    "builtin_function_or_method",
    "instance",
    "_Feature"
   ],
   "window_display": false
  }
 },
 "nbformat": 4,
 "nbformat_minor": 5
}
