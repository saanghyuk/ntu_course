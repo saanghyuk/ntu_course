{
 "cells": [
  {
   "cell_type": "code",
   "execution_count": 1,
   "metadata": {
    "scrolled": true
   },
   "outputs": [
    {
     "name": "stdout",
     "output_type": "stream",
     "text": [
      "Collecting SpeechRecognition\n",
      "  Downloading SpeechRecognition-3.8.1-py2.py3-none-any.whl (32.8 MB)\n",
      "\u001b[K     |████████████████████████████████| 32.8 MB 280 kB/s eta 0:00:011\n",
      "\u001b[?25hInstalling collected packages: SpeechRecognition\n",
      "Successfully installed SpeechRecognition-3.8.1\n",
      "Collecting pipwin\n",
      "  Downloading pipwin-0.5.1.tar.gz (8.8 kB)\n",
      "Collecting docopt\n",
      "  Downloading docopt-0.6.2.tar.gz (25 kB)\n",
      "Requirement already satisfied: requests in /Users/sanghyuk/anaconda/envs/py38/lib/python3.8/site-packages (from pipwin) (2.24.0)\n",
      "Collecting pyprind\n",
      "  Downloading PyPrind-2.11.3-py2.py3-none-any.whl (8.4 kB)\n",
      "Requirement already satisfied: six in /Users/sanghyuk/anaconda/envs/py38/lib/python3.8/site-packages (from pipwin) (1.15.0)\n",
      "Collecting beautifulsoup4>=4.9.0\n",
      "  Downloading beautifulsoup4-4.10.0-py3-none-any.whl (97 kB)\n",
      "\u001b[K     |████████████████████████████████| 97 kB 8.0 MB/s eta 0:00:011\n",
      "\u001b[?25hCollecting js2py\n",
      "  Downloading Js2Py-0.71-py3-none-any.whl (1.0 MB)\n",
      "\u001b[K     |████████████████████████████████| 1.0 MB 39.6 MB/s eta 0:00:01\n",
      "\u001b[?25hRequirement already satisfied: packaging in /Users/sanghyuk/anaconda/envs/py38/lib/python3.8/site-packages (from pipwin) (20.4)\n",
      "Collecting pySmartDL>=1.3.1\n",
      "  Downloading pySmartDL-1.3.4-py3-none-any.whl (20 kB)\n",
      "Requirement already satisfied: chardet<4,>=3.0.2 in /Users/sanghyuk/anaconda/envs/py38/lib/python3.8/site-packages (from requests->pipwin) (3.0.4)\n",
      "Requirement already satisfied: urllib3!=1.25.0,!=1.25.1,<1.26,>=1.21.1 in /Users/sanghyuk/anaconda/envs/py38/lib/python3.8/site-packages (from requests->pipwin) (1.25.11)\n",
      "Requirement already satisfied: idna<3,>=2.5 in /Users/sanghyuk/anaconda/envs/py38/lib/python3.8/site-packages (from requests->pipwin) (2.10)\n",
      "Requirement already satisfied: certifi>=2017.4.17 in /Users/sanghyuk/anaconda/envs/py38/lib/python3.8/site-packages (from requests->pipwin) (2020.6.20)\n",
      "Requirement already satisfied: soupsieve>1.2 in /Users/sanghyuk/anaconda/envs/py38/lib/python3.8/site-packages (from beautifulsoup4>=4.9.0->pipwin) (2.0.1)\n",
      "Collecting tzlocal>=1.2\n",
      "  Downloading tzlocal-3.0-py3-none-any.whl (16 kB)\n",
      "Collecting pyjsparser>=2.5.1\n",
      "  Downloading pyjsparser-2.7.1.tar.gz (24 kB)\n",
      "Requirement already satisfied: pyparsing>=2.0.2 in /Users/sanghyuk/anaconda/envs/py38/lib/python3.8/site-packages (from packaging->pipwin) (2.4.7)\n",
      "Collecting backports.zoneinfo; python_version < \"3.9\"\n",
      "  Downloading backports.zoneinfo-0.2.1-cp38-cp38-macosx_10_14_x86_64.whl (35 kB)\n",
      "Building wheels for collected packages: pipwin, docopt, pyjsparser\n",
      "  Building wheel for pipwin (setup.py) ... \u001b[?25ldone\n",
      "\u001b[?25h  Created wheel for pipwin: filename=pipwin-0.5.1-py2.py3-none-any.whl size=8777 sha256=ae33b031686f85fcb85dad2992f56537e462b8f212b9e3e99f693996e4c509db\n",
      "  Stored in directory: /Users/sanghyuk/Library/Caches/pip/wheels/94/1b/63/6465d24b53c03f566cfb25a7a9b806b4b0e29c95d82ac189d8\n",
      "  Building wheel for docopt (setup.py) ... \u001b[?25ldone\n",
      "\u001b[?25h  Created wheel for docopt: filename=docopt-0.6.2-py2.py3-none-any.whl size=13704 sha256=b108acba462e4d556d821a7d18f83e2b593cde108474c34ef20ced20a09df83e\n",
      "  Stored in directory: /Users/sanghyuk/Library/Caches/pip/wheels/56/ea/58/ead137b087d9e326852a851351d1debf4ada529b6ac0ec4e8c\n",
      "  Building wheel for pyjsparser (setup.py) ... \u001b[?25ldone\n",
      "\u001b[?25h  Created wheel for pyjsparser: filename=pyjsparser-2.7.1-py3-none-any.whl size=25998 sha256=b9c2e8fa44d531d2d49922ab572ceca9a689e4cdad04d2e8512c538317100f10\n",
      "  Stored in directory: /Users/sanghyuk/Library/Caches/pip/wheels/d5/88/34/ccb5bb40eb3178a134eb293e6c363928c5bcfba0b91031db76\n",
      "Successfully built pipwin docopt pyjsparser\n",
      "Installing collected packages: docopt, pyprind, beautifulsoup4, backports.zoneinfo, tzlocal, pyjsparser, js2py, pySmartDL, pipwin\n",
      "  Attempting uninstall: beautifulsoup4\n",
      "    Found existing installation: beautifulsoup4 4.8.1\n",
      "    Uninstalling beautifulsoup4-4.8.1:\n",
      "      Successfully uninstalled beautifulsoup4-4.8.1\n",
      "\u001b[31mERROR: After October 2020 you may experience errors when installing or updating packages. This is because pip will change the way that it resolves dependency conflicts.\n",
      "\n",
      "We recommend you use --use-feature=2020-resolver to test your packages with the new resolver before it becomes the default.\n",
      "\n",
      "konlpy 0.5.2 requires beautifulsoup4==4.6.0, but you'll have beautifulsoup4 4.10.0 which is incompatible.\u001b[0m\n",
      "Successfully installed backports.zoneinfo-0.2.1 beautifulsoup4-4.10.0 docopt-0.6.2 js2py-0.71 pipwin-0.5.1 pySmartDL-1.3.4 pyjsparser-2.7.1 pyprind-2.11.3 tzlocal-3.0\n",
      "/Users/sanghyuk/anaconda/envs/py38/lib/python3.8/site-packages/pipwin/command.py:66: UserWarning: Found a non Windows system. Package installation might not work.\n",
      "  warn(\"Found a non Windows system. Package installation might not work.\")\n",
      "Building cache. Hang on . . .\n",
      "Done\n",
      "Package `pyaudio` found in cache\n",
      "Downloading package . . .\n",
      "https://download.lfd.uci.edu/pythonlibs/y2rycu7g/PyAudio-0.2.11-cp38-cp38-win_amd64.whl\n",
      "PyAudio-0.2.11-cp38-cp38-win_amd64.whl\n",
      "[*] 0 bytes / 110 kB @ 0 bytes/s [------------------] [0.0%, 0s left]   [*] 0 bytes / 110 kB @ 0 bytes/s [------------------] [0.0%, 0s left]   [*] 0 bytes / 110 kB @ 0 bytes/s [------------------] [0.0%, 0s left]   [*] 0 bytes / 110 kB @ 0 bytes/s [------------------] [0.0%, 0s left]   [*] 0 bytes / 110 kB @ 0 bytes/s [------------------] [0.0%, 0s left]   [*] 0 bytes / 110 kB @ 0 bytes/s [------------------] [0.0%, 0s left]   [*] 0 bytes / 110 kB @ 0 bytes/s [------------------] [0.0%, 0s left]   [*] 0 bytes / 110 kB @ 0 bytes/s [------------------] [0.0%, 0s left]   [*] 0 bytes / 110 kB @ 0 bytes/s [------------------] [0.0%, 0s left]   [*] 0 bytes / 110 kB @ 0 bytes/s [------------------] [0.0%, 0s left]   [*] 0 bytes / 110 kB @ 0 bytes/s [------------------] [0.0%, 0s left]   [*] 0 bytes / 110 kB @ 0 bytes/s [------------------] [0.0%, 0s left]   [*] 8 kB / 110 kB @ 6 kB/s [#-----------------] [7.3%, 0s left]   [*] 8 kB / 110 kB @ 6 kB/s [#-----------------] [7.3%, 0s left]   [*] 24 kB / 110 kB @ 16 kB/s [###---------------] [21.8%, 0s left]  [*] 24 kB / 110 kB @ 15 kB/s [###---------------] [21.8%, 0s left]  [*] 72 kB / 110 kB @ 42 kB/s [###########-------] [65.5%, 0s left]  [*] 72 kB / 110 kB @ 40 kB/s [###########-------] [65.5%, 0s left]  [*] 110 kB / 110 kB @ 40 kB/s [##################] [100%, 0s left]    \n",
      "\u001b[31mERROR: PyAudio-0.2.11-cp38-cp38-win_amd64.whl is not a supported wheel on this platform.\u001b[0m\n",
      "Traceback (most recent call last):\n",
      "  File \"/Users/sanghyuk/anaconda/envs/py38/bin/pipwin\", line 8, in <module>\n",
      "    sys.exit(main())\n",
      "  File \"/Users/sanghyuk/anaconda/envs/py38/lib/python3.8/site-packages/pipwin/command.py\", line 103, in main\n",
      "    cache.install(package)\n",
      "  File \"/Users/sanghyuk/anaconda/envs/py38/lib/python3.8/site-packages/pipwin/pipwin.py\", line 301, in install\n",
      "    subprocess.check_call([executable, \"-m\", \"pip\", \"install\", wheel_file])\n",
      "  File \"/Users/sanghyuk/anaconda/envs/py38/lib/python3.8/subprocess.py\", line 364, in check_call\n",
      "    raise CalledProcessError(retcode, cmd)\n",
      "subprocess.CalledProcessError: Command '['/Users/sanghyuk/anaconda/envs/py38/bin/python', '-m', 'pip', 'install', '/Users/sanghyuk/pipwin/PyAudio-0.2.11-cp38-cp38-win_amd64.whl']' returned non-zero exit status 1.\n"
     ]
    }
   ],
   "source": [
    "!pip3 install SpeechRecognition\n",
    "!pip3 install pipwin\n",
    "!pipwin install pyaudio"
   ]
  },
  {
   "cell_type": "code",
   "execution_count": 3,
   "metadata": {},
   "outputs": [
    {
     "name": "stdout",
     "output_type": "stream",
     "text": [
      "please say something in 4 seconds... and wait for 4 seconds for the answer.....\n",
      "Accessing Microphone..\n",
      "Waiting for you to speak...\n",
      "You said how are you\n"
     ]
    }
   ],
   "source": [
    "\n",
    "import speech_recognition as sr\n",
    "r = sr.Recognizer()\n",
    "\n",
    "print(\"please say something in 4 seconds... and wait for 4 seconds for the answer.....\")\n",
    "print(\"Accessing Microphone..\")\n",
    "\n",
    "with sr.Microphone() as source:   \n",
    "    r.adjust_for_ambient_noise(source, duration=2)          \n",
    "    print(\"Waiting for you to speak...\")\n",
    "    audio = r.listen(source)                   \n",
    "try:\n",
    "    print(\"You said \" + r.recognize_google(audio))    \n",
    "except:\n",
    "    print(\"Please retry...\")\n"
   ]
  },
  {
   "cell_type": "code",
   "execution_count": 4,
   "metadata": {},
   "outputs": [
    {
     "name": "stdout",
     "output_type": "stream",
     "text": [
      "CyberSecurity.csv RNN.ipynb         speech.ipynb\r\n"
     ]
    }
   ],
   "source": [
    "!ls"
   ]
  },
  {
   "cell_type": "code",
   "execution_count": null,
   "metadata": {},
   "outputs": [],
   "source": [
    "from IPython.display import Audio\n",
    "#https://cloudconvert.com/m4a-to-wav\n",
    "Path = \"C:/Users/User/OneDrive - TSS Global Pte. Ltd/TT Library/AI Model/Speech/Recording.wav\"\n",
    "Audio(Path)"
   ]
  },
  {
   "cell_type": "code",
   "execution_count": null,
   "metadata": {},
   "outputs": [],
   "source": []
  }
 ],
 "metadata": {
  "kernelspec": {
   "display_name": "Python 3",
   "language": "python",
   "name": "python3"
  },
  "language_info": {
   "codemirror_mode": {
    "name": "ipython",
    "version": 3
   },
   "file_extension": ".py",
   "mimetype": "text/x-python",
   "name": "python",
   "nbconvert_exporter": "python",
   "pygments_lexer": "ipython3",
   "version": "3.8.5"
  }
 },
 "nbformat": 4,
 "nbformat_minor": 4
}
